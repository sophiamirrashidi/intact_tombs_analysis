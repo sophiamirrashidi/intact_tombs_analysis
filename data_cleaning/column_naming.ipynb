{
 "cells": [
  {
   "cell_type": "code",
   "execution_count": 1,
   "id": "9e41bd27",
   "metadata": {},
   "outputs": [],
   "source": [
    "import numpy as np\n",
    "import pandas as pd\n",
    "import os"
   ]
  },
  {
   "cell_type": "code",
   "execution_count": 2,
   "id": "0d3e16c9",
   "metadata": {},
   "outputs": [
    {
     "name": "stdout",
     "output_type": "stream",
     "text": [
      "coffins\n",
      "lotus_converted\n",
      "fertil\n",
      "shabtis\n",
      "pers\n",
      "cost\n",
      "met\n",
      "boxbas\n",
      "furn\n",
      "bouquet\n",
      "toil\n",
      "games\n",
      "bowls\n",
      "jewel\n",
      "papyrus\n",
      "fun\n"
     ]
    }
   ],
   "source": [
    "df_dict = {}\n",
    "\n",
    "for file in os.listdir(\"./tomb_csv\"):\n",
    "   if file.endswith(\".csv\"):\n",
    "        filename = os.path.splitext(os.path.basename(file))[0]\n",
    "        print(filename)\n",
    "        temp_df = pd.read_csv(os.path.join('./tomb_csv', file), header=None)\n",
    "        df_dict[filename] = temp_df\n",
    "\n",
    "# proff, jars, amph have to be read in as tab due to sentences, jar\n",
    "df_dict[\"amph\"] = pd.read_csv('./tomb_tabs/amph.tab', header=None, delimiter = '\\t')\n",
    "df_dict['proff'] = pd.read_csv('./tomb_tabs/proff.tab', header=None, delimiter = '\\t') \n",
    "df_dict[\"jars\"] = pd.read_csv('./tomb_tabs/jars.tab', header=None, delimiter = '\\t')\n",
    "    "
   ]
  },
  {
   "cell_type": "code",
   "execution_count": 22,
   "id": "c62b5d66",
   "metadata": {},
   "outputs": [],
   "source": [
    "amph_df = df_dict[\"amph\"]\n",
    "amph_df.columns = ['tomb', 'drop1', 'description', 'drop2', 'beer', 'wine', 'meat', 'grain', 'total_cost', 'rank']\n",
    "amph_df.drop(['drop1', 'drop2'], axis=1, inplace=True)\n",
    "amph_df.to_csv('./final_data/amph.tsv', index=False, sep='\\t')\n"
   ]
  },
  {
   "cell_type": "code",
   "execution_count": 44,
   "id": "c3f5ce7c",
   "metadata": {},
   "outputs": [],
   "source": [
    "bowls_df = df_dict[\"bowls\"]\n",
    "bowls_df.columns = ['tomb', 'flowerpot', 'bowl', 'total_cost', 'rank']\n",
    "bowls_df.to_csv('./final_data/bowls.tsv', index=False, sep='\\t')"
   ]
  },
  {
   "cell_type": "code",
   "execution_count": 45,
   "id": "375bdcf2",
   "metadata": {},
   "outputs": [],
   "source": [
    "boxbas_df = df_dict[\"boxbas\"]\n",
    "boxbas_df.columns = ['tomb', 'box', 'basket', 'decorated_box', 'total_cost', 'rank']\n",
    "boxbas_df.to_csv('./final_data/boxbas.tsv', index=False, sep='\\t')"
   ]
  },
  {
   "cell_type": "code",
   "execution_count": 51,
   "id": "3e6a3406",
   "metadata": {},
   "outputs": [],
   "source": [
    "coffins_df = df_dict[\"coffins\"]\n",
    "coffins_df.columns = ['tomb', 'mumm', 'rishi', 'chest', 'qual1', 'qual2', 'qual3', 'total_cost', 'rank', 'qual4', 'basket/mat', 'qual5']\n",
    "coffins_df.to_csv('./final_data/coffins.tsv', index=False, sep='\\t')"
   ]
  },
  {
   "cell_type": "code",
   "execution_count": 54,
   "id": "c2e732f3",
   "metadata": {},
   "outputs": [],
   "source": [
    "cost_df = df_dict[\"cost\"]\n",
    "cost_df.columns = ['tomb', 'rank', 'grand_total', 'amphorae', 'bouquet', 'bowls', 'boxbas', 'coffins', 'fertility', 'funerary', 'furniture', 'jars', 'jewlery', 'personal', 'profess', 'shabti', 'toiletries', 'vessels']\n",
    "cost_df.to_csv('./final_data/cost.tsv', index=False, sep='\\t')"
   ]
  },
  {
   "cell_type": "code",
   "execution_count": 56,
   "id": "983a5f40",
   "metadata": {},
   "outputs": [],
   "source": [
    "fertil_df = df_dict[\"fertil\"]\n",
    "fertil_df.columns = ['tomb', 'bed', 'figurine', 'mud_pat', 'pot', 'total_cost', 'rank']\n",
    "fertil_df.to_csv('./final_data/fertil.tsv', index=False, sep='\\t')"
   ]
  },
  {
   "cell_type": "code",
   "execution_count": 24,
   "id": "50e69dc5",
   "metadata": {},
   "outputs": [],
   "source": [
    "fun_df = df_dict[\"fun\"]\n",
    "fun_df.columns = ['tomb', 'mask', 'canopics', 'cage', 'statues', 'drop2', 'fun_beds', 'chest', 'chest2', 'canopicsAlab', 'canopics_mask', 'total_cost', 'shrines', 'pall', 'rank']\n",
    "fun_df.drop(['drop2'], axis=1, inplace=True)\n",
    "fun_df.to_csv('./final_data/fun.tsv', index=False, sep='\\t')"
   ]
  },
  {
   "cell_type": "code",
   "execution_count": 60,
   "id": "2d57c380",
   "metadata": {},
   "outputs": [],
   "source": [
    "furn_df = df_dict[\"furn\"]\n",
    "furn_df.columns = ['tomb', 'head', 'bed', 'chair', 'seat', 'misc', 'mat', 'total_cost', 'decorated', 'rank']\n",
    "furn_df.to_csv('./final_data/furn.tsv', index=False, sep='\\t')"
   ]
  },
  {
   "cell_type": "code",
   "execution_count": 62,
   "id": "132bee84",
   "metadata": {},
   "outputs": [],
   "source": [
    "games_df = df_dict[\"games\"]\n",
    "games_df.columns = ['tomb', 'game', 'total_cost']\n",
    "games_df.to_csv('./final_data/games.tsv', index=False, sep='\\t')"
   ]
  },
  {
   "cell_type": "code",
   "execution_count": 25,
   "id": "d116912c",
   "metadata": {},
   "outputs": [],
   "source": [
    "jars_df = df_dict[\"jars\"]\n",
    "jars_df.columns = ['tomb', 'painted', 'large', 'small', 'contents', 'drop1', 'rank', 'natron', 'lg_fat', 'sm_fat', 'lg_beer', 'sm_beer', 'dec_fat', 'rank']\n",
    "jars_df.drop(['drop1'], axis=1, inplace=True)\n",
    "jars_df.to_csv('./final_data/jars.tsv', index=False, sep='\\t')"
   ]
  },
  {
   "cell_type": "code",
   "execution_count": 7,
   "id": "416ae4fd",
   "metadata": {},
   "outputs": [],
   "source": [
    "jewel_df = df_dict[\"jewel\"]\n",
    "jewel_df.columns = ['tomb', 'total_cost', '[amulet]', 'amulet', 'costly', 'heart', 'misc', 'rank']\n",
    "jewel_df.to_csv('./final_data/jewel.tsv', index=False, sep='\\t')"
   ]
  },
  {
   "cell_type": "code",
   "execution_count": 9,
   "id": "9c39f3d1",
   "metadata": {},
   "outputs": [],
   "source": [
    "lotus_converted_df = df_dict[\"lotus_converted\"]\n",
    "lotus_converted_df.columns = ['tomb', 'rank', 'ambig_feature_cost?']\n",
    "lotus_converted_df.to_csv('./final_data/lotus_converted.tsv', index=False, sep='\\t')"
   ]
  },
  {
   "cell_type": "code",
   "execution_count": 11,
   "id": "d8bd6baf",
   "metadata": {},
   "outputs": [],
   "source": [
    "met_df = df_dict[\"met\"]\n",
    "met_df.columns = ['tomb', 'stone', 'copper', 'silver', 'total_cost', 'rank', 'dec_stone']\n",
    "met_df.to_csv('./final_data/met.tsv', index=False, sep='\\t')"
   ]
  },
  {
   "cell_type": "code",
   "execution_count": 13,
   "id": "81bbfa97",
   "metadata": {},
   "outputs": [],
   "source": [
    "papyrus_df = df_dict[\"papyrus\"]\n",
    "papyrus_df.columns = ['tomb', 'count', 'unit_cost', 'total_cost']\n",
    "papyrus_df.to_csv('./final_data/papyrus.tsv', index=False, sep='\\t')"
   ]
  },
  {
   "cell_type": "code",
   "execution_count": 26,
   "id": "74a0b0d6",
   "metadata": {},
   "outputs": [],
   "source": [
    "pers_df = df_dict[\"pers\"]\n",
    "pers_df.columns = ['tomb', 'staff', 'sandals', 'clothes', 'drop1', 'fans', 'drop2', 'linen_1', 'linen_2', 'linen_3', 'linen_sp', 'total_cost', 'rank']\n",
    "pers_df.drop(['drop1', 'drop2'], axis=1, inplace=True)\n",
    "pers_df.to_csv('./final_data/pers.tsv', index=False, sep='\\t')"
   ]
  },
  {
   "cell_type": "code",
   "execution_count": 17,
   "id": "6425fe6b",
   "metadata": {},
   "outputs": [],
   "source": [
    "proff_df = df_dict[\"proff\"]\n",
    "proff_df.columns = ['tomb', 'value', 'rank', 'proff_equip']\n",
    "proff_df.to_csv('./final_data/proff.tsv', index=False, sep='\\t')"
   ]
  },
  {
   "cell_type": "code",
   "execution_count": 19,
   "id": "18fec706",
   "metadata": {},
   "outputs": [],
   "source": [
    "shabtis_df = df_dict[\"shabtis\"]\n",
    "shabtis_df.columns = ['tomb', 'count', 'total_cost', 'shrines', 'papyrus', 'games', 'rank']\n",
    "shabtis_df.to_csv('./final_data/shabtis.tsv', index=False, sep='\\t')"
   ]
  },
  {
   "cell_type": "code",
   "execution_count": 21,
   "id": "163032f1",
   "metadata": {},
   "outputs": [],
   "source": [
    "toil_df = df_dict[\"toil\"]\n",
    "toil_df.columns = ['tomb', 'razor', 'knife', 'tweez', 'vessel', 'mirror', 'comb', 'bowl', 'pin', 'baton', 'total_cost', 'rank']\n",
    "toil_df.to_csv('./final_data/toil.tsv', index=False, sep='\\t')"
   ]
  }
 ],
 "metadata": {
  "kernelspec": {
   "display_name": "base",
   "language": "python",
   "name": "python3"
  },
  "language_info": {
   "codemirror_mode": {
    "name": "ipython",
    "version": 3
   },
   "file_extension": ".py",
   "mimetype": "text/x-python",
   "name": "python",
   "nbconvert_exporter": "python",
   "pygments_lexer": "ipython3",
   "version": "3.12.2"
  }
 },
 "nbformat": 4,
 "nbformat_minor": 5
}
