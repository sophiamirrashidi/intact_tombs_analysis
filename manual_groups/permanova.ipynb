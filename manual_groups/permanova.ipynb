{
 "cells": [
  {
   "cell_type": "code",
   "execution_count": 8,
   "id": "157531c6",
   "metadata": {},
   "outputs": [
    {
     "name": "stdout",
     "output_type": "stream",
     "text": [
      "tomb           0\n",
      "rank           0\n",
      "grand_total    0\n",
      "amphorae       0\n",
      "bouquet        0\n",
      "bowls          0\n",
      "boxbas         0\n",
      "coffins        0\n",
      "fertility      0\n",
      "funerary       0\n",
      "furniture      0\n",
      "jars           0\n",
      "jewelry        0\n",
      "personal       0\n",
      "profess        0\n",
      "shabti         0\n",
      "toiletries     0\n",
      "vessels        0\n",
      "dtype: int64\n"
     ]
    }
   ],
   "source": [
    "import pandas as pd\n",
    "import seaborn as sns\n",
    "import os \n",
    "import sklearn as sk\n",
    "import matplotlib.pyplot as plt\n",
    "from sklearn.preprocessing import StandardScaler\n",
    "\n",
    "# load data\n",
    "df_dict = {}\n",
    "\n",
    "for file in os.listdir(\"./final_data\"):\n",
    "   if file.endswith(\".tsv\"):\n",
    "        filename = os.path.splitext(os.path.basename(file))[0]\n",
    "        temp_df = pd.read_csv(os.path.join('./final_data', file), delimiter='\\t')\n",
    "        df_dict[filename] = temp_df\n",
    "\n",
    "cost_df = df_dict['cost']\n",
    "\n",
    "# since coffins column is missing values, add the coffin column from coffins.tsv\n",
    "coffins_df = df_dict['coffins']\n",
    "merged_df = cost_df.merge(coffins_df, left_on=\"coffins\", right_on=\"total_cost\", how=\"left\")\n",
    "cost_df[\"coffins\"] = cost_df[\"coffins\"].fillna(merged_df[\"coffins\"])\n",
    "\n",
    "# some of the missing values have different keys - filling in manually\n",
    "# found this value in coffins_df\n",
    "cost_df.at[0, \"coffins\"] = 590.0\n",
    "# cannot find k&m in coffins_df, in paper, it says that Kha and Merit are similar to Yuya and Tuya, so filling their coffin value wih 590\n",
    "cost_df.at[2, \"coffins\"] = 590.0\n",
    "\n",
    "# filling in missing jewelry values\n",
    "jewel_df = df_dict['jewel']\n",
    "# putting 0 for iabtina because appendix in paper says there is no jewelry\n",
    "cost_df.at[25, \"jewlery\"] = 0\n",
    "# cannot find data for NuMan, putting 85 which is the average of the rank above and rank below cost on jewelry\n",
    "cost_df.at[75, \"jewlery\"] = 85\n",
    "cost_df = cost_df.rename(columns = {\"jewlery\" : \"jewelry\"})\n",
    "\n",
    "# filling in missing values for profess\n",
    "proff_df = df_dict['proff']\n",
    "# no professional equipment for Sat-Re, filling in 0\n",
    "cost_df.at[29, \"profess\"] = 0\n",
    "\n",
    "# filling in missing values for toiletries \n",
    "# no information about toiletries for Khay, filling in the average of the rank above and below\n",
    "cost_df.at[5, \"toiletries\"] = 13.5\n",
    "# drop some repeat tombs\n",
    "cost_df = cost_df[~cost_df['tomb'].isin(['Yuya','Kha', 'Merit', \"Tuya\", \"T&A\"])]\n",
    "\n",
    "print(cost_df.isnull().sum())\n",
    "cost_df = cost_df.drop([\"rank\"], axis=1)"
   ]
  },
  {
   "cell_type": "code",
   "execution_count": null,
   "id": "4903ac0a",
   "metadata": {},
   "outputs": [],
   "source": [
    "def assign_manual_label(row):\n",
    "    tut = [\"Tutankhamen\"]\n",
    "    elite = [\"Y&T\", \"K&M\", \"Mahirper\"]\n",
    "    high_mid = [\"Nakht\", \"Khay\", \"Hatnofer\", \"Neferkhewet\", \"Hatiay\", \"Setau\", \"S&N\", \"Petrie\"]\n",
    "    mid = [\"Tahuty\", \"Ahotep\", \"Harmose\", \"Mentuhotep\", \"Senmut\"]\n",
    "    \n",
    "\n",
    "    if row[\"tomb\"] in tut:\n",
    "        return \"Tutankhamen\"\n",
    "    elif row[\"tomb\"] in elite:\n",
    "        return \"Elite\"\n",
    "    elif row[\"tomb\"] in high_mid:\n",
    "        return \"High-Middle\"\n",
    "    elif row[\"tomb\"] in mid:\n",
    "        return \"Middle\"\n",
    "    else:\n",
    "        return \"Low\"\n",
    "\n",
    "# assign status from paper \n",
    "cost_df[\"status\"] = cost_df.apply(assign_manual_label, axis=1)"
   ]
  },
  {
   "cell_type": "code",
   "execution_count": 10,
   "id": "0207da75",
   "metadata": {},
   "outputs": [],
   "source": [
    "# create group dataframes\n",
    "elite_df = cost_df[cost_df[\"status\"] == \"Elite\"]\n",
    "high_mid_df = cost_df[cost_df[\"status\"] == \"High-Middle\"]\n",
    "mid_df = cost_df[cost_df[\"status\"] == \"Middle\"]\n",
    "low_df = cost_df[cost_df[\"status\"] == \"Low\"]\n",
    "\n",
    "df_list = [elite_df, high_mid_df, mid_df, low_df]\n"
   ]
  },
  {
   "cell_type": "code",
   "execution_count": 15,
   "id": "a8244fda",
   "metadata": {},
   "outputs": [
    {
     "name": "stdout",
     "output_type": "stream",
     "text": [
      "method name               PERMANOVA\n",
      "test statistic name        pseudo-F\n",
      "sample size                     133\n",
      "number of groups                  4\n",
      "test statistic            18.735675\n",
      "p-value                       0.001\n",
      "number of permutations          999\n",
      "Name: PERMANOVA results, dtype: object\n",
      "\n",
      "\n",
      "\n",
      "Group: Elite\n",
      "2 columns with zero variance\n",
      "\n",
      "Group: High-Middle\n",
      "1 columns with zero variance\n",
      "\n",
      "Group: Low\n",
      "0 columns with zero variance\n",
      "\n",
      "Group: Middle\n",
      "8 columns with zero variance\n",
      "\n",
      "Group: Tutankhamen\n",
      "0 columns with zero variance\n",
      "\n"
     ]
    }
   ],
   "source": [
    "# PERMANOVA\n",
    "from scipy.spatial.distance import pdist, squareform\n",
    "from skbio.stats.distance import DistanceMatrix, permanova, permdisp\n",
    "\n",
    "# scale features\n",
    "no_tut = cost_df[cost_df['tomb'] != \"Tutankhamen\"]\n",
    "feature_matrix = no_tut.drop(['tomb', 'status'], axis=1)\n",
    "feature_matrix = StandardScaler().fit_transform(feature_matrix)\n",
    "\n",
    "# calculate distance matrix\n",
    "distances = pdist(feature_matrix, metric='euclidean')\n",
    "dist_matrix = DistanceMatrix(squareform(distances), ids=no_tut[\"tomb\"])\n",
    "\n",
    "# permanova calculation\n",
    "id_df = no_tut.set_index(\"tomb\").loc[dist_matrix.ids, [\"status\"]]\n",
    "pn = permanova(dist_matrix, grouping=id_df, column=\"status\")\n",
    "print(pn)\n",
    "print('\\n\\n')\n",
    "\n",
    "# check variance of columns \n",
    "grouped = cost_df.groupby(\"status\")\n",
    "\n",
    "for name, group in grouped:\n",
    "    numeric_data = group.select_dtypes(include=\"number\")  # filters only numeric columns\n",
    "    zero_var_cols = (numeric_data.var() == 0).sum()\n",
    "    print(f\"Group: {name}\")\n",
    "    print(zero_var_cols, \"columns with zero variance\\n\")\n"
   ]
  },
  {
   "cell_type": "code",
   "execution_count": 23,
   "id": "0ac219d4",
   "metadata": {},
   "outputs": [
    {
     "ename": "ValueError",
     "evalue": "openrlib.R_HOME cannot be None.",
     "output_type": "error",
     "traceback": [
      "\u001b[0;31m---------------------------------------------------------------------------\u001b[0m",
      "\u001b[0;31mValueError\u001b[0m                                Traceback (most recent call last)",
      "Cell \u001b[0;32mIn[23], line 1\u001b[0m\n\u001b[0;32m----> 1\u001b[0m \u001b[43mget_ipython\u001b[49m\u001b[43m(\u001b[49m\u001b[43m)\u001b[49m\u001b[38;5;241;43m.\u001b[39;49m\u001b[43mrun_line_magic\u001b[49m\u001b[43m(\u001b[49m\u001b[38;5;124;43m'\u001b[39;49m\u001b[38;5;124;43mload_ext\u001b[39;49m\u001b[38;5;124;43m'\u001b[39;49m\u001b[43m,\u001b[49m\u001b[43m \u001b[49m\u001b[38;5;124;43m'\u001b[39;49m\u001b[38;5;124;43mrpy2.ipython\u001b[39;49m\u001b[38;5;124;43m'\u001b[39;49m\u001b[43m)\u001b[49m\n\u001b[1;32m      2\u001b[0m \u001b[38;5;28;01mimport\u001b[39;00m\u001b[38;5;250m \u001b[39m\u001b[38;5;21;01mos\u001b[39;00m\n\u001b[1;32m      3\u001b[0m os\u001b[38;5;241m.\u001b[39menviron[\u001b[38;5;124m\"\u001b[39m\u001b[38;5;124mR_HOME\u001b[39m\u001b[38;5;124m\"\u001b[39m] \u001b[38;5;241m=\u001b[39m \u001b[38;5;124m\"\u001b[39m\u001b[38;5;124m/Library/Frameworks/R.framework/Resources\u001b[39m\u001b[38;5;124m\"\u001b[39m\n",
      "File \u001b[0;32m/opt/miniconda3/envs/school/lib/python3.12/site-packages/IPython/core/interactiveshell.py:2480\u001b[0m, in \u001b[0;36mInteractiveShell.run_line_magic\u001b[0;34m(self, magic_name, line, _stack_depth)\u001b[0m\n\u001b[1;32m   2478\u001b[0m     kwargs[\u001b[38;5;124m'\u001b[39m\u001b[38;5;124mlocal_ns\u001b[39m\u001b[38;5;124m'\u001b[39m] \u001b[38;5;241m=\u001b[39m \u001b[38;5;28mself\u001b[39m\u001b[38;5;241m.\u001b[39mget_local_scope(stack_depth)\n\u001b[1;32m   2479\u001b[0m \u001b[38;5;28;01mwith\u001b[39;00m \u001b[38;5;28mself\u001b[39m\u001b[38;5;241m.\u001b[39mbuiltin_trap:\n\u001b[0;32m-> 2480\u001b[0m     result \u001b[38;5;241m=\u001b[39m \u001b[43mfn\u001b[49m\u001b[43m(\u001b[49m\u001b[38;5;241;43m*\u001b[39;49m\u001b[43margs\u001b[49m\u001b[43m,\u001b[49m\u001b[43m \u001b[49m\u001b[38;5;241;43m*\u001b[39;49m\u001b[38;5;241;43m*\u001b[39;49m\u001b[43mkwargs\u001b[49m\u001b[43m)\u001b[49m\n\u001b[1;32m   2482\u001b[0m \u001b[38;5;66;03m# The code below prevents the output from being displayed\u001b[39;00m\n\u001b[1;32m   2483\u001b[0m \u001b[38;5;66;03m# when using magics with decorator @output_can_be_silenced\u001b[39;00m\n\u001b[1;32m   2484\u001b[0m \u001b[38;5;66;03m# when the last Python token in the expression is a ';'.\u001b[39;00m\n\u001b[1;32m   2485\u001b[0m \u001b[38;5;28;01mif\u001b[39;00m \u001b[38;5;28mgetattr\u001b[39m(fn, magic\u001b[38;5;241m.\u001b[39mMAGIC_OUTPUT_CAN_BE_SILENCED, \u001b[38;5;28;01mFalse\u001b[39;00m):\n",
      "File \u001b[0;32m/opt/miniconda3/envs/school/lib/python3.12/site-packages/IPython/core/magics/extension.py:33\u001b[0m, in \u001b[0;36mExtensionMagics.load_ext\u001b[0;34m(self, module_str)\u001b[0m\n\u001b[1;32m     31\u001b[0m \u001b[38;5;28;01mif\u001b[39;00m \u001b[38;5;129;01mnot\u001b[39;00m module_str:\n\u001b[1;32m     32\u001b[0m     \u001b[38;5;28;01mraise\u001b[39;00m UsageError(\u001b[38;5;124m'\u001b[39m\u001b[38;5;124mMissing module name.\u001b[39m\u001b[38;5;124m'\u001b[39m)\n\u001b[0;32m---> 33\u001b[0m res \u001b[38;5;241m=\u001b[39m \u001b[38;5;28;43mself\u001b[39;49m\u001b[38;5;241;43m.\u001b[39;49m\u001b[43mshell\u001b[49m\u001b[38;5;241;43m.\u001b[39;49m\u001b[43mextension_manager\u001b[49m\u001b[38;5;241;43m.\u001b[39;49m\u001b[43mload_extension\u001b[49m\u001b[43m(\u001b[49m\u001b[43mmodule_str\u001b[49m\u001b[43m)\u001b[49m\n\u001b[1;32m     35\u001b[0m \u001b[38;5;28;01mif\u001b[39;00m res \u001b[38;5;241m==\u001b[39m \u001b[38;5;124m'\u001b[39m\u001b[38;5;124malready loaded\u001b[39m\u001b[38;5;124m'\u001b[39m:\n\u001b[1;32m     36\u001b[0m     \u001b[38;5;28mprint\u001b[39m(\u001b[38;5;124m\"\u001b[39m\u001b[38;5;124mThe \u001b[39m\u001b[38;5;132;01m%s\u001b[39;00m\u001b[38;5;124m extension is already loaded. To reload it, use:\u001b[39m\u001b[38;5;124m\"\u001b[39m \u001b[38;5;241m%\u001b[39m module_str)\n",
      "File \u001b[0;32m/opt/miniconda3/envs/school/lib/python3.12/site-packages/IPython/core/extensions.py:62\u001b[0m, in \u001b[0;36mExtensionManager.load_extension\u001b[0;34m(self, module_str)\u001b[0m\n\u001b[1;32m     55\u001b[0m \u001b[38;5;250m\u001b[39m\u001b[38;5;124;03m\"\"\"Load an IPython extension by its module name.\u001b[39;00m\n\u001b[1;32m     56\u001b[0m \n\u001b[1;32m     57\u001b[0m \u001b[38;5;124;03mReturns the string \"already loaded\" if the extension is already loaded,\u001b[39;00m\n\u001b[1;32m     58\u001b[0m \u001b[38;5;124;03m\"no load function\" if the module doesn't have a load_ipython_extension\u001b[39;00m\n\u001b[1;32m     59\u001b[0m \u001b[38;5;124;03mfunction, or None if it succeeded.\u001b[39;00m\n\u001b[1;32m     60\u001b[0m \u001b[38;5;124;03m\"\"\"\u001b[39;00m\n\u001b[1;32m     61\u001b[0m \u001b[38;5;28;01mtry\u001b[39;00m:\n\u001b[0;32m---> 62\u001b[0m     \u001b[38;5;28;01mreturn\u001b[39;00m \u001b[38;5;28;43mself\u001b[39;49m\u001b[38;5;241;43m.\u001b[39;49m\u001b[43m_load_extension\u001b[49m\u001b[43m(\u001b[49m\u001b[43mmodule_str\u001b[49m\u001b[43m)\u001b[49m\n\u001b[1;32m     63\u001b[0m \u001b[38;5;28;01mexcept\u001b[39;00m \u001b[38;5;167;01mModuleNotFoundError\u001b[39;00m:\n\u001b[1;32m     64\u001b[0m     \u001b[38;5;28;01mif\u001b[39;00m module_str \u001b[38;5;129;01min\u001b[39;00m BUILTINS_EXTS:\n",
      "File \u001b[0;32m/opt/miniconda3/envs/school/lib/python3.12/site-packages/IPython/core/extensions.py:77\u001b[0m, in \u001b[0;36mExtensionManager._load_extension\u001b[0;34m(self, module_str)\u001b[0m\n\u001b[1;32m     75\u001b[0m \u001b[38;5;28;01mwith\u001b[39;00m \u001b[38;5;28mself\u001b[39m\u001b[38;5;241m.\u001b[39mshell\u001b[38;5;241m.\u001b[39mbuiltin_trap:\n\u001b[1;32m     76\u001b[0m     \u001b[38;5;28;01mif\u001b[39;00m module_str \u001b[38;5;129;01mnot\u001b[39;00m \u001b[38;5;129;01min\u001b[39;00m sys\u001b[38;5;241m.\u001b[39mmodules:\n\u001b[0;32m---> 77\u001b[0m         mod \u001b[38;5;241m=\u001b[39m \u001b[43mimport_module\u001b[49m\u001b[43m(\u001b[49m\u001b[43mmodule_str\u001b[49m\u001b[43m)\u001b[49m\n\u001b[1;32m     78\u001b[0m     mod \u001b[38;5;241m=\u001b[39m sys\u001b[38;5;241m.\u001b[39mmodules[module_str]\n\u001b[1;32m     79\u001b[0m     \u001b[38;5;28;01mif\u001b[39;00m \u001b[38;5;28mself\u001b[39m\u001b[38;5;241m.\u001b[39m_call_load_ipython_extension(mod):\n",
      "File \u001b[0;32m/opt/miniconda3/envs/school/lib/python3.12/importlib/__init__.py:90\u001b[0m, in \u001b[0;36mimport_module\u001b[0;34m(name, package)\u001b[0m\n\u001b[1;32m     88\u001b[0m             \u001b[38;5;28;01mbreak\u001b[39;00m\n\u001b[1;32m     89\u001b[0m         level \u001b[38;5;241m+\u001b[39m\u001b[38;5;241m=\u001b[39m \u001b[38;5;241m1\u001b[39m\n\u001b[0;32m---> 90\u001b[0m \u001b[38;5;28;01mreturn\u001b[39;00m \u001b[43m_bootstrap\u001b[49m\u001b[38;5;241;43m.\u001b[39;49m\u001b[43m_gcd_import\u001b[49m\u001b[43m(\u001b[49m\u001b[43mname\u001b[49m\u001b[43m[\u001b[49m\u001b[43mlevel\u001b[49m\u001b[43m:\u001b[49m\u001b[43m]\u001b[49m\u001b[43m,\u001b[49m\u001b[43m \u001b[49m\u001b[43mpackage\u001b[49m\u001b[43m,\u001b[49m\u001b[43m \u001b[49m\u001b[43mlevel\u001b[49m\u001b[43m)\u001b[49m\n",
      "File \u001b[0;32m<frozen importlib._bootstrap>:1387\u001b[0m, in \u001b[0;36m_gcd_import\u001b[0;34m(name, package, level)\u001b[0m\n",
      "File \u001b[0;32m<frozen importlib._bootstrap>:1360\u001b[0m, in \u001b[0;36m_find_and_load\u001b[0;34m(name, import_)\u001b[0m\n",
      "File \u001b[0;32m<frozen importlib._bootstrap>:1331\u001b[0m, in \u001b[0;36m_find_and_load_unlocked\u001b[0;34m(name, import_)\u001b[0m\n",
      "File \u001b[0;32m<frozen importlib._bootstrap>:935\u001b[0m, in \u001b[0;36m_load_unlocked\u001b[0;34m(spec)\u001b[0m\n",
      "File \u001b[0;32m<frozen importlib._bootstrap_external>:995\u001b[0m, in \u001b[0;36mexec_module\u001b[0;34m(self, module)\u001b[0m\n",
      "File \u001b[0;32m<frozen importlib._bootstrap>:488\u001b[0m, in \u001b[0;36m_call_with_frames_removed\u001b[0;34m(f, *args, **kwds)\u001b[0m\n",
      "File \u001b[0;32m/opt/miniconda3/envs/school/lib/python3.12/site-packages/rpy2/ipython/__init__.py:1\u001b[0m\n\u001b[0;32m----> 1\u001b[0m \u001b[38;5;28;01mfrom\u001b[39;00m\u001b[38;5;250m \u001b[39m\u001b[38;5;21;01m.\u001b[39;00m\u001b[38;5;250m \u001b[39m\u001b[38;5;28;01mimport\u001b[39;00m rmagic\n\u001b[1;32m      3\u001b[0m load_ipython_extension \u001b[38;5;241m=\u001b[39m rmagic\u001b[38;5;241m.\u001b[39mload_ipython_extension\n",
      "File \u001b[0;32m/opt/miniconda3/envs/school/lib/python3.12/site-packages/rpy2/ipython/rmagic.py:59\u001b[0m\n\u001b[1;32m     56\u001b[0m \u001b[38;5;28;01mimport\u001b[39;00m\u001b[38;5;250m \u001b[39m\u001b[38;5;21;01mrpy2\u001b[39;00m\u001b[38;5;21;01m.\u001b[39;00m\u001b[38;5;21;01mrinterface\u001b[39;00m\u001b[38;5;250m \u001b[39m\u001b[38;5;28;01mas\u001b[39;00m\u001b[38;5;250m \u001b[39m\u001b[38;5;21;01mri\u001b[39;00m\n\u001b[1;32m     58\u001b[0m \u001b[38;5;28;01mimport\u001b[39;00m\u001b[38;5;250m \u001b[39m\u001b[38;5;21;01mrpy2\u001b[39;00m\u001b[38;5;21;01m.\u001b[39;00m\u001b[38;5;21;01mrinterface_lib\u001b[39;00m\u001b[38;5;21;01m.\u001b[39;00m\u001b[38;5;21;01mopenrlib\u001b[39;00m\n\u001b[0;32m---> 59\u001b[0m \u001b[38;5;28;01mimport\u001b[39;00m\u001b[38;5;250m \u001b[39m\u001b[38;5;21;01mrpy2\u001b[39;00m\u001b[38;5;21;01m.\u001b[39;00m\u001b[38;5;21;01mrobjects\u001b[39;00m\u001b[38;5;250m \u001b[39m\u001b[38;5;28;01mas\u001b[39;00m\u001b[38;5;250m \u001b[39m\u001b[38;5;21;01mro\u001b[39;00m\n\u001b[1;32m     60\u001b[0m \u001b[38;5;28;01mimport\u001b[39;00m\u001b[38;5;250m \u001b[39m\u001b[38;5;21;01mrpy2\u001b[39;00m\u001b[38;5;21;01m.\u001b[39;00m\u001b[38;5;21;01mrobjects\u001b[39;00m\u001b[38;5;21;01m.\u001b[39;00m\u001b[38;5;21;01mpackages\u001b[39;00m\u001b[38;5;250m \u001b[39m\u001b[38;5;28;01mas\u001b[39;00m\u001b[38;5;250m \u001b[39m\u001b[38;5;21;01mrpacks\u001b[39;00m\n\u001b[1;32m     61\u001b[0m \u001b[38;5;28;01mfrom\u001b[39;00m\u001b[38;5;250m \u001b[39m\u001b[38;5;21;01mrpy2\u001b[39;00m\u001b[38;5;21;01m.\u001b[39;00m\u001b[38;5;21;01mrobjects\u001b[39;00m\u001b[38;5;21;01m.\u001b[39;00m\u001b[38;5;21;01mlib\u001b[39;00m\u001b[38;5;250m \u001b[39m\u001b[38;5;28;01mimport\u001b[39;00m grdevices\n",
      "File \u001b[0;32m/opt/miniconda3/envs/school/lib/python3.12/site-packages/rpy2/robjects/__init__.py:21\u001b[0m\n\u001b[1;32m     18\u001b[0m \u001b[38;5;28;01mimport\u001b[39;00m\u001b[38;5;250m \u001b[39m\u001b[38;5;21;01mrpy2\u001b[39;00m\u001b[38;5;21;01m.\u001b[39;00m\u001b[38;5;21;01mrinterface_lib\u001b[39;00m\u001b[38;5;21;01m.\u001b[39;00m\u001b[38;5;21;01mopenrlib\u001b[39;00m\n\u001b[1;32m     19\u001b[0m \u001b[38;5;28;01mimport\u001b[39;00m\u001b[38;5;250m \u001b[39m\u001b[38;5;21;01mrpy2\u001b[39;00m\u001b[38;5;21;01m.\u001b[39;00m\u001b[38;5;21;01mrlike\u001b[39;00m\u001b[38;5;21;01m.\u001b[39;00m\u001b[38;5;21;01mcontainer\u001b[39;00m\u001b[38;5;250m \u001b[39m\u001b[38;5;28;01mas\u001b[39;00m\u001b[38;5;250m \u001b[39m\u001b[38;5;21;01mrlc\u001b[39;00m\n\u001b[0;32m---> 21\u001b[0m \u001b[38;5;28;01mfrom\u001b[39;00m\u001b[38;5;250m \u001b[39m\u001b[38;5;21;01mrpy2\u001b[39;00m\u001b[38;5;21;01m.\u001b[39;00m\u001b[38;5;21;01mrobjects\u001b[39;00m\u001b[38;5;21;01m.\u001b[39;00m\u001b[38;5;21;01mrobject\u001b[39;00m\u001b[38;5;250m \u001b[39m\u001b[38;5;28;01mimport\u001b[39;00m RObjectMixin, RObject\n\u001b[1;32m     22\u001b[0m \u001b[38;5;28;01mimport\u001b[39;00m\u001b[38;5;250m \u001b[39m\u001b[38;5;21;01mrpy2\u001b[39;00m\u001b[38;5;21;01m.\u001b[39;00m\u001b[38;5;21;01mrobjects\u001b[39;00m\u001b[38;5;21;01m.\u001b[39;00m\u001b[38;5;21;01mfunctions\u001b[39;00m\n\u001b[1;32m     23\u001b[0m \u001b[38;5;28;01mfrom\u001b[39;00m\u001b[38;5;250m \u001b[39m\u001b[38;5;21;01mrpy2\u001b[39;00m\u001b[38;5;21;01m.\u001b[39;00m\u001b[38;5;21;01mrobjects\u001b[39;00m\u001b[38;5;21;01m.\u001b[39;00m\u001b[38;5;21;01menvironments\u001b[39;00m\u001b[38;5;250m \u001b[39m\u001b[38;5;28;01mimport\u001b[39;00m (Environment,\n\u001b[1;32m     24\u001b[0m                                         local_context)\n",
      "File \u001b[0;32m/opt/miniconda3/envs/school/lib/python3.12/site-packages/rpy2/robjects/robject.py:11\u001b[0m\n\u001b[1;32m      7\u001b[0m \u001b[38;5;28;01mimport\u001b[39;00m\u001b[38;5;250m \u001b[39m\u001b[38;5;21;01mrpy2\u001b[39;00m\u001b[38;5;21;01m.\u001b[39;00m\u001b[38;5;21;01mrinterface_lib\u001b[39;00m\u001b[38;5;21;01m.\u001b[39;00m\u001b[38;5;21;01mcallbacks\u001b[39;00m\n\u001b[1;32m      9\u001b[0m \u001b[38;5;28;01mfrom\u001b[39;00m\u001b[38;5;250m \u001b[39m\u001b[38;5;21;01mrpy2\u001b[39;00m\u001b[38;5;21;01m.\u001b[39;00m\u001b[38;5;21;01mrobjects\u001b[39;00m\u001b[38;5;250m \u001b[39m\u001b[38;5;28;01mimport\u001b[39;00m conversion\n\u001b[0;32m---> 11\u001b[0m \u001b[43mrpy2\u001b[49m\u001b[38;5;241;43m.\u001b[39;49m\u001b[43mrinterface\u001b[49m\u001b[38;5;241;43m.\u001b[39;49m\u001b[43minitr_simple\u001b[49m\u001b[43m(\u001b[49m\u001b[43m)\u001b[49m\n\u001b[1;32m     14\u001b[0m \u001b[38;5;28;01mdef\u001b[39;00m\u001b[38;5;250m \u001b[39m\u001b[38;5;21m_add_warn_reticulate_hook\u001b[39m():\n\u001b[1;32m     15\u001b[0m     msg \u001b[38;5;241m=\u001b[39m \u001b[38;5;124m\"\"\"\u001b[39m\n\u001b[1;32m     16\u001b[0m \u001b[38;5;124m    WARNING: The R package \u001b[39m\u001b[38;5;124m\"\u001b[39m\u001b[38;5;124mreticulate\u001b[39m\u001b[38;5;124m\"\u001b[39m\u001b[38;5;124m only fixed recently\u001b[39m\n\u001b[1;32m     17\u001b[0m \u001b[38;5;124m    an issue that caused a segfault when used with rpy2:\u001b[39m\n\u001b[0;32m   (...)\u001b[0m\n\u001b[1;32m     20\u001b[0m \u001b[38;5;124m    the fix.\u001b[39m\n\u001b[1;32m     21\u001b[0m \u001b[38;5;124m    \u001b[39m\u001b[38;5;124m\"\"\"\u001b[39m\n",
      "File \u001b[0;32m/opt/miniconda3/envs/school/lib/python3.12/site-packages/rpy2/rinterface.py:1071\u001b[0m, in \u001b[0;36minitr_simple\u001b[0;34m()\u001b[0m\n\u001b[1;32m   1069\u001b[0m \u001b[38;5;250m\u001b[39m\u001b[38;5;124;03m\"\"\"Initialize R's embedded C library.\"\"\"\u001b[39;00m\n\u001b[1;32m   1070\u001b[0m \u001b[38;5;28;01mwith\u001b[39;00m openrlib\u001b[38;5;241m.\u001b[39mrlock:\n\u001b[0;32m-> 1071\u001b[0m     status \u001b[38;5;241m=\u001b[39m \u001b[43membedded\u001b[49m\u001b[38;5;241;43m.\u001b[39;49m\u001b[43m_initr\u001b[49m\u001b[43m(\u001b[49m\u001b[43m)\u001b[49m\n\u001b[1;32m   1072\u001b[0m     atexit\u001b[38;5;241m.\u001b[39mregister(endr, \u001b[38;5;241m0\u001b[39m)\n\u001b[1;32m   1073\u001b[0m     _rinterface\u001b[38;5;241m.\u001b[39m_register_external_symbols()\n",
      "File \u001b[0;32m/opt/miniconda3/envs/school/lib/python3.12/site-packages/rpy2/rinterface_lib/embedded.py:272\u001b[0m, in \u001b[0;36m_initr\u001b[0;34m(interactive, _want_setcallbacks, _c_stack_limit)\u001b[0m\n\u001b[1;32m    270\u001b[0m     \u001b[38;5;28;01mreturn\u001b[39;00m \u001b[38;5;28;01mNone\u001b[39;00m\n\u001b[1;32m    271\u001b[0m \u001b[38;5;28;01melif\u001b[39;00m openrlib\u001b[38;5;241m.\u001b[39mR_HOME \u001b[38;5;129;01mis\u001b[39;00m \u001b[38;5;28;01mNone\u001b[39;00m:\n\u001b[0;32m--> 272\u001b[0m     \u001b[38;5;28;01mraise\u001b[39;00m \u001b[38;5;167;01mValueError\u001b[39;00m(\u001b[38;5;124m'\u001b[39m\u001b[38;5;124mopenrlib.R_HOME cannot be None.\u001b[39m\u001b[38;5;124m'\u001b[39m)\n\u001b[1;32m    273\u001b[0m \u001b[38;5;28;01melif\u001b[39;00m openrlib\u001b[38;5;241m.\u001b[39mrlib\u001b[38;5;241m.\u001b[39mR_NilValue \u001b[38;5;241m!=\u001b[39m ffi\u001b[38;5;241m.\u001b[39mNULL:\n\u001b[1;32m    274\u001b[0m     msg \u001b[38;5;241m=\u001b[39m (\u001b[38;5;124m'\u001b[39m\u001b[38;5;124mR was initialized outside of rpy2 (R_NilValue != NULL). \u001b[39m\u001b[38;5;124m'\u001b[39m\n\u001b[1;32m    275\u001b[0m            \u001b[38;5;124m'\u001b[39m\u001b[38;5;124mTrying to use it nevertheless.\u001b[39m\u001b[38;5;124m'\u001b[39m)\n",
      "\u001b[0;31mValueError\u001b[0m: openrlib.R_HOME cannot be None."
     ]
    }
   ],
   "source": [
    "%load_ext rpy2.ipython\n",
    "import os\n",
    "os.environ[\"R_HOME\"] = \"/Library/Frameworks/R.framework/Resources\"\n",
    "\n",
    "%load_ext rpy2.ipython\n",
    "\n",
    "import pandas as pd\n",
    "from rpy2.robjects import pandas2ri\n",
    "pandas2ri.activate()\n",
    "\n",
    "# Extract status column into a separate Series\n",
    "group_vector = id_df[\"status\"]\n",
    "\n",
    "# Then send both to R\n",
    "%R -i feature_matrix -i group_vector"
   ]
  },
  {
   "cell_type": "code",
   "execution_count": 20,
   "id": "23ddad23",
   "metadata": {},
   "outputs": [
    {
     "name": "stderr",
     "output_type": "stream",
     "text": [
      "UsageError: Line magic function `%%R` not found.\n"
     ]
    }
   ],
   "source": [
    "# Now in R: run betadisper and test\n",
    "%%R\n",
    "library(vegan)\n",
    "\n",
    "# Compute Bray-Curtis distances\n",
    "dist_matrix <- vegdist(your_dataframe, method = \"euclidean\")\n",
    "\n",
    "# Run PERMDISP (using centroids)\n",
    "dispersion <- betadisper(dist_matrix, group_vector, type = \"centroid\")\n",
    "\n",
    "# Test for differences in dispersion\n",
    "permdisp_result <- anova(dispersion)\n",
    "print(permdisp_result)\n"
   ]
  },
  {
   "cell_type": "code",
   "execution_count": 13,
   "id": "97588e63",
   "metadata": {},
   "outputs": [
    {
     "name": "stderr",
     "output_type": "stream",
     "text": [
      "Unable to determine R home: [Errno 2] No such file or directory: 'R'\n"
     ]
    },
    {
     "ename": "ValueError",
     "evalue": "openrlib.R_HOME cannot be None.",
     "output_type": "error",
     "traceback": [
      "\u001b[0;31m---------------------------------------------------------------------------\u001b[0m",
      "\u001b[0;31mValueError\u001b[0m                                Traceback (most recent call last)",
      "Cell \u001b[0;32mIn[13], line 1\u001b[0m\n\u001b[0;32m----> 1\u001b[0m \u001b[38;5;28;01mimport\u001b[39;00m\u001b[38;5;250m \u001b[39m\u001b[38;5;21;01mrpy2\u001b[39;00m\u001b[38;5;21;01m.\u001b[39;00m\u001b[38;5;21;01mrobjects\u001b[39;00m\u001b[38;5;250m \u001b[39m\u001b[38;5;28;01mas\u001b[39;00m\u001b[38;5;250m \u001b[39m\u001b[38;5;21;01mrobjects\u001b[39;00m\n\u001b[1;32m      3\u001b[0m robjects\u001b[38;5;241m.\u001b[39mr(\u001b[38;5;124m'''\u001b[39m\n\u001b[1;32m      4\u001b[0m \u001b[38;5;124m    library(vegan)\u001b[39m\n\u001b[1;32m      5\u001b[0m \u001b[38;5;124m    dist_matrix <- vegdist(feature_matrix, method = \u001b[39m\u001b[38;5;124m\"\u001b[39m\u001b[38;5;124meuclidean\u001b[39m\u001b[38;5;124m\"\u001b[39m\u001b[38;5;124m)\u001b[39m\n\u001b[0;32m   (...)\u001b[0m\n\u001b[1;32m      8\u001b[0m \u001b[38;5;124m    print(result)\u001b[39m\n\u001b[1;32m      9\u001b[0m \u001b[38;5;124m'''\u001b[39m)\n",
      "File \u001b[0;32m/opt/miniconda3/envs/school/lib/python3.12/site-packages/rpy2/robjects/__init__.py:21\u001b[0m\n\u001b[1;32m     18\u001b[0m \u001b[38;5;28;01mimport\u001b[39;00m\u001b[38;5;250m \u001b[39m\u001b[38;5;21;01mrpy2\u001b[39;00m\u001b[38;5;21;01m.\u001b[39;00m\u001b[38;5;21;01mrinterface_lib\u001b[39;00m\u001b[38;5;21;01m.\u001b[39;00m\u001b[38;5;21;01mopenrlib\u001b[39;00m\n\u001b[1;32m     19\u001b[0m \u001b[38;5;28;01mimport\u001b[39;00m\u001b[38;5;250m \u001b[39m\u001b[38;5;21;01mrpy2\u001b[39;00m\u001b[38;5;21;01m.\u001b[39;00m\u001b[38;5;21;01mrlike\u001b[39;00m\u001b[38;5;21;01m.\u001b[39;00m\u001b[38;5;21;01mcontainer\u001b[39;00m\u001b[38;5;250m \u001b[39m\u001b[38;5;28;01mas\u001b[39;00m\u001b[38;5;250m \u001b[39m\u001b[38;5;21;01mrlc\u001b[39;00m\n\u001b[0;32m---> 21\u001b[0m \u001b[38;5;28;01mfrom\u001b[39;00m\u001b[38;5;250m \u001b[39m\u001b[38;5;21;01mrpy2\u001b[39;00m\u001b[38;5;21;01m.\u001b[39;00m\u001b[38;5;21;01mrobjects\u001b[39;00m\u001b[38;5;21;01m.\u001b[39;00m\u001b[38;5;21;01mrobject\u001b[39;00m\u001b[38;5;250m \u001b[39m\u001b[38;5;28;01mimport\u001b[39;00m RObjectMixin, RObject\n\u001b[1;32m     22\u001b[0m \u001b[38;5;28;01mimport\u001b[39;00m\u001b[38;5;250m \u001b[39m\u001b[38;5;21;01mrpy2\u001b[39;00m\u001b[38;5;21;01m.\u001b[39;00m\u001b[38;5;21;01mrobjects\u001b[39;00m\u001b[38;5;21;01m.\u001b[39;00m\u001b[38;5;21;01mfunctions\u001b[39;00m\n\u001b[1;32m     23\u001b[0m \u001b[38;5;28;01mfrom\u001b[39;00m\u001b[38;5;250m \u001b[39m\u001b[38;5;21;01mrpy2\u001b[39;00m\u001b[38;5;21;01m.\u001b[39;00m\u001b[38;5;21;01mrobjects\u001b[39;00m\u001b[38;5;21;01m.\u001b[39;00m\u001b[38;5;21;01menvironments\u001b[39;00m\u001b[38;5;250m \u001b[39m\u001b[38;5;28;01mimport\u001b[39;00m (Environment,\n\u001b[1;32m     24\u001b[0m                                         local_context)\n",
      "File \u001b[0;32m/opt/miniconda3/envs/school/lib/python3.12/site-packages/rpy2/robjects/robject.py:11\u001b[0m\n\u001b[1;32m      7\u001b[0m \u001b[38;5;28;01mimport\u001b[39;00m\u001b[38;5;250m \u001b[39m\u001b[38;5;21;01mrpy2\u001b[39;00m\u001b[38;5;21;01m.\u001b[39;00m\u001b[38;5;21;01mrinterface_lib\u001b[39;00m\u001b[38;5;21;01m.\u001b[39;00m\u001b[38;5;21;01mcallbacks\u001b[39;00m\n\u001b[1;32m      9\u001b[0m \u001b[38;5;28;01mfrom\u001b[39;00m\u001b[38;5;250m \u001b[39m\u001b[38;5;21;01mrpy2\u001b[39;00m\u001b[38;5;21;01m.\u001b[39;00m\u001b[38;5;21;01mrobjects\u001b[39;00m\u001b[38;5;250m \u001b[39m\u001b[38;5;28;01mimport\u001b[39;00m conversion\n\u001b[0;32m---> 11\u001b[0m \u001b[43mrpy2\u001b[49m\u001b[38;5;241;43m.\u001b[39;49m\u001b[43mrinterface\u001b[49m\u001b[38;5;241;43m.\u001b[39;49m\u001b[43minitr_simple\u001b[49m\u001b[43m(\u001b[49m\u001b[43m)\u001b[49m\n\u001b[1;32m     14\u001b[0m \u001b[38;5;28;01mdef\u001b[39;00m\u001b[38;5;250m \u001b[39m\u001b[38;5;21m_add_warn_reticulate_hook\u001b[39m():\n\u001b[1;32m     15\u001b[0m     msg \u001b[38;5;241m=\u001b[39m \u001b[38;5;124m\"\"\"\u001b[39m\n\u001b[1;32m     16\u001b[0m \u001b[38;5;124m    WARNING: The R package \u001b[39m\u001b[38;5;124m\"\u001b[39m\u001b[38;5;124mreticulate\u001b[39m\u001b[38;5;124m\"\u001b[39m\u001b[38;5;124m only fixed recently\u001b[39m\n\u001b[1;32m     17\u001b[0m \u001b[38;5;124m    an issue that caused a segfault when used with rpy2:\u001b[39m\n\u001b[0;32m   (...)\u001b[0m\n\u001b[1;32m     20\u001b[0m \u001b[38;5;124m    the fix.\u001b[39m\n\u001b[1;32m     21\u001b[0m \u001b[38;5;124m    \u001b[39m\u001b[38;5;124m\"\"\"\u001b[39m\n",
      "File \u001b[0;32m/opt/miniconda3/envs/school/lib/python3.12/site-packages/rpy2/rinterface.py:1071\u001b[0m, in \u001b[0;36minitr_simple\u001b[0;34m()\u001b[0m\n\u001b[1;32m   1069\u001b[0m \u001b[38;5;250m\u001b[39m\u001b[38;5;124;03m\"\"\"Initialize R's embedded C library.\"\"\"\u001b[39;00m\n\u001b[1;32m   1070\u001b[0m \u001b[38;5;28;01mwith\u001b[39;00m openrlib\u001b[38;5;241m.\u001b[39mrlock:\n\u001b[0;32m-> 1071\u001b[0m     status \u001b[38;5;241m=\u001b[39m \u001b[43membedded\u001b[49m\u001b[38;5;241;43m.\u001b[39;49m\u001b[43m_initr\u001b[49m\u001b[43m(\u001b[49m\u001b[43m)\u001b[49m\n\u001b[1;32m   1072\u001b[0m     atexit\u001b[38;5;241m.\u001b[39mregister(endr, \u001b[38;5;241m0\u001b[39m)\n\u001b[1;32m   1073\u001b[0m     _rinterface\u001b[38;5;241m.\u001b[39m_register_external_symbols()\n",
      "File \u001b[0;32m/opt/miniconda3/envs/school/lib/python3.12/site-packages/rpy2/rinterface_lib/embedded.py:272\u001b[0m, in \u001b[0;36m_initr\u001b[0;34m(interactive, _want_setcallbacks, _c_stack_limit)\u001b[0m\n\u001b[1;32m    270\u001b[0m     \u001b[38;5;28;01mreturn\u001b[39;00m \u001b[38;5;28;01mNone\u001b[39;00m\n\u001b[1;32m    271\u001b[0m \u001b[38;5;28;01melif\u001b[39;00m openrlib\u001b[38;5;241m.\u001b[39mR_HOME \u001b[38;5;129;01mis\u001b[39;00m \u001b[38;5;28;01mNone\u001b[39;00m:\n\u001b[0;32m--> 272\u001b[0m     \u001b[38;5;28;01mraise\u001b[39;00m \u001b[38;5;167;01mValueError\u001b[39;00m(\u001b[38;5;124m'\u001b[39m\u001b[38;5;124mopenrlib.R_HOME cannot be None.\u001b[39m\u001b[38;5;124m'\u001b[39m)\n\u001b[1;32m    273\u001b[0m \u001b[38;5;28;01melif\u001b[39;00m openrlib\u001b[38;5;241m.\u001b[39mrlib\u001b[38;5;241m.\u001b[39mR_NilValue \u001b[38;5;241m!=\u001b[39m ffi\u001b[38;5;241m.\u001b[39mNULL:\n\u001b[1;32m    274\u001b[0m     msg \u001b[38;5;241m=\u001b[39m (\u001b[38;5;124m'\u001b[39m\u001b[38;5;124mR was initialized outside of rpy2 (R_NilValue != NULL). \u001b[39m\u001b[38;5;124m'\u001b[39m\n\u001b[1;32m    275\u001b[0m            \u001b[38;5;124m'\u001b[39m\u001b[38;5;124mTrying to use it nevertheless.\u001b[39m\u001b[38;5;124m'\u001b[39m)\n",
      "\u001b[0;31mValueError\u001b[0m: openrlib.R_HOME cannot be None."
     ]
    }
   ],
   "source": [
    "import rpy2.robjects as robjects\n",
    "\n",
    "robjects.r('''\n",
    "    library(vegan)\n",
    "    dist_matrix <- vegdist(feature_matrix, method = \"euclidean\")\n",
    "    dispersion <- betadisper(dist_matrix, group_vector, type = \"centroid\")\n",
    "    result <- anova(dispersion)\n",
    "    print(result)\n",
    "''')\n"
   ]
  }
 ],
 "metadata": {
  "kernelspec": {
   "display_name": "school",
   "language": "python",
   "name": "python3"
  },
  "language_info": {
   "codemirror_mode": {
    "name": "ipython",
    "version": 3
   },
   "file_extension": ".py",
   "mimetype": "text/x-python",
   "name": "python",
   "nbconvert_exporter": "python",
   "pygments_lexer": "ipython3",
   "version": "3.12.7"
  }
 },
 "nbformat": 4,
 "nbformat_minor": 5
}
