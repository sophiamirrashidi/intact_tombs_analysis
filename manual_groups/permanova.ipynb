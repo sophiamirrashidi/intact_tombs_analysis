{
 "cells": [
  {
   "cell_type": "code",
   "execution_count": 1,
   "id": "157531c6",
   "metadata": {},
   "outputs": [
    {
     "name": "stdout",
     "output_type": "stream",
     "text": [
      "tomb           0\n",
      "rank           0\n",
      "grand_total    0\n",
      "amphorae       0\n",
      "bouquet        0\n",
      "bowls          0\n",
      "boxbas         0\n",
      "coffins        0\n",
      "fertility      0\n",
      "funerary       0\n",
      "furniture      0\n",
      "jars           0\n",
      "jewelry        0\n",
      "personal       0\n",
      "profess        0\n",
      "shabti         0\n",
      "toiletries     0\n",
      "vessels        0\n",
      "dtype: int64\n"
     ]
    }
   ],
   "source": [
    "import pandas as pd\n",
    "import seaborn as sns\n",
    "import os \n",
    "import sklearn as sk\n",
    "import matplotlib.pyplot as plt\n",
    "from sklearn.preprocessing import StandardScaler\n",
    "\n",
    "# load data\n",
    "df_dict = {}\n",
    "\n",
    "for file in os.listdir(\"../final_data\"):\n",
    "   if file.endswith(\".tsv\"):\n",
    "        filename = os.path.splitext(os.path.basename(file))[0]\n",
    "        temp_df = pd.read_csv(os.path.join('../final_data', file), delimiter='\\t')\n",
    "        df_dict[filename] = temp_df\n",
    "\n",
    "cost_df = df_dict['cost']\n",
    "\n",
    "# since coffins column is missing values, add the coffin column from coffins.tsv\n",
    "coffins_df = df_dict['coffins']\n",
    "merged_df = cost_df.merge(coffins_df, left_on=\"coffins\", right_on=\"total_cost\", how=\"left\")\n",
    "cost_df[\"coffins\"] = cost_df[\"coffins\"].fillna(merged_df[\"coffins\"])\n",
    "\n",
    "# some of the missing values have different keys - filling in manually\n",
    "# found this value in coffins_df\n",
    "cost_df.at[0, \"coffins\"] = 590.0\n",
    "# cannot find k&m in coffins_df, in paper, it says that Kha and Merit are similar to Yuya and Tuya, so filling their coffin value wih 590\n",
    "cost_df.at[2, \"coffins\"] = 590.0\n",
    "\n",
    "# filling in missing jewelry values\n",
    "jewel_df = df_dict['jewel']\n",
    "# putting 0 for iabtina because appendix in paper says there is no jewelry\n",
    "cost_df.at[25, \"jewlery\"] = 0\n",
    "# cannot find data for NuMan, putting 85 which is the average of the rank above and rank below cost on jewelry\n",
    "cost_df.at[75, \"jewlery\"] = 85\n",
    "cost_df = cost_df.rename(columns = {\"jewlery\" : \"jewelry\"})\n",
    "\n",
    "# filling in missing values for profess\n",
    "proff_df = df_dict['proff']\n",
    "# no professional equipment for Sat-Re, filling in 0\n",
    "cost_df.at[29, \"profess\"] = 0\n",
    "\n",
    "# filling in missing values for toiletries \n",
    "# no information about toiletries for Khay, filling in the average of the rank above and below\n",
    "cost_df.at[5, \"toiletries\"] = 13.5\n",
    "# drop some repeat tombs\n",
    "cost_df = cost_df[~cost_df['tomb'].isin(['Yuya','Kha', 'Merit', \"Tuya\", \"T&A\"])]\n",
    "\n",
    "print(cost_df.isnull().sum())\n",
    "cost_df = cost_df.drop([\"rank\"], axis=1)"
   ]
  },
  {
   "cell_type": "code",
   "execution_count": 10,
   "id": "4903ac0a",
   "metadata": {},
   "outputs": [],
   "source": [
    "def assign_manual_label(row):\n",
    "    tut = [\"Tutankhamen\"]\n",
    "    elite = [\"Y&T\", \"K&M\", \"Mahirper\"]\n",
    "    high_mid = [\"Nakht\", \"Khay\", \"Hatnofer\", \"Neferkhewet\", \"Renofer\", \"Ruyu\", \"Boki\", \"Amenemheb\", \"Siamun\", \"Hentut'u\", \"Mahy\", \"Bakiset\",\n",
    "                \"Taat\", \"Tahuty\", \"Ahotep\", \"Hatiay\", \"Setau\", \"S&N\", \"Petrie\"]\n",
    "    mid = [\"Harmose\", \"Mentuhotep\", \"DeM 1389\", \"DeM 1381\", \"DeM 1380\", \"DeM 1377\", \"DeM 1375\", \"# 78 f\", \"# 53 m\", \"# 18 ?\", \"SR+\", \"Amenemhet\", \n",
    "           \"B+\", \"Ramose\", \"Maya\", \"Nub\"]\n",
    "    \n",
    "\n",
    "    if row[\"tomb\"] in tut:\n",
    "        return \"Tutankhamen\"\n",
    "    elif row[\"tomb\"] in elite:\n",
    "        return \"Elite\"\n",
    "    elif row[\"tomb\"] in high_mid:\n",
    "        return \"High-Middle\"\n",
    "    elif row[\"tomb\"] in mid:\n",
    "        return \"Middle\"\n",
    "    else:\n",
    "        return \"Low\"\n",
    "\n",
    "# assign status from paper \n",
    "cost_df[\"status\"] = cost_df.apply(assign_manual_label, axis=1)"
   ]
  },
  {
   "cell_type": "code",
   "execution_count": 11,
   "id": "0207da75",
   "metadata": {},
   "outputs": [],
   "source": [
    "# create group dataframes\n",
    "elite_df = cost_df[cost_df[\"status\"] == \"Elite\"]\n",
    "high_mid_df = cost_df[cost_df[\"status\"] == \"High-Middle\"]\n",
    "mid_df = cost_df[cost_df[\"status\"] == \"Middle\"]\n",
    "low_df = cost_df[cost_df[\"status\"] == \"Low\"]\n",
    "\n",
    "df_list = [elite_df, high_mid_df, mid_df, low_df]\n"
   ]
  },
  {
   "cell_type": "code",
   "execution_count": 12,
   "id": "a8244fda",
   "metadata": {},
   "outputs": [
    {
     "name": "stdout",
     "output_type": "stream",
     "text": [
      "method name               PERMANOVA\n",
      "test statistic name        pseudo-F\n",
      "sample size                     133\n",
      "number of groups                  4\n",
      "test statistic            20.835505\n",
      "p-value                       0.001\n",
      "number of permutations          999\n",
      "Name: PERMANOVA results, dtype: object\n",
      "\n",
      "\n",
      "\n"
     ]
    }
   ],
   "source": [
    "# PERMANOVA\n",
    "from scipy.spatial.distance import pdist, squareform\n",
    "from skbio.stats.distance import DistanceMatrix, permanova, permdisp\n",
    "\n",
    "# scale features\n",
    "no_tut = cost_df[cost_df['tomb'] != \"Tutankhamen\"]\n",
    "feature_matrix = no_tut.drop(['tomb', 'status'], axis=1)\n",
    "feature_matrix = StandardScaler().fit_transform(feature_matrix)\n",
    "\n",
    "# calculate distance matrix\n",
    "distances = pdist(feature_matrix, metric='euclidean')\n",
    "dist_matrix = DistanceMatrix(squareform(distances), ids=no_tut[\"tomb\"])\n",
    "\n",
    "# permanova calculation\n",
    "id_df = no_tut.set_index(\"tomb\").loc[dist_matrix.ids, [\"status\"]]\n",
    "pn = permanova(dist_matrix, grouping=id_df, column=\"status\")\n",
    "print(pn)\n",
    "print('\\n\\n')\n",
    "\n"
   ]
  },
  {
   "cell_type": "code",
   "execution_count": 13,
   "id": "0ac219d4",
   "metadata": {},
   "outputs": [],
   "source": [
    "from rpy2.robjects import pandas2ri\n",
    "\n",
    "os.environ[\"R_HOME\"] = \"/Library/Frameworks/R.framework/Resources\"\n",
    "\n",
    "pandas2ri.activate()\n",
    "\n",
    "# Extract status column into a separate Series\n",
    "group_vector = id_df[\"status\"]\n",
    "\n",
    "# Then send both to R\n",
    "%R -i feature_matrix -i group_vector"
   ]
  },
  {
   "cell_type": "code",
   "execution_count": 14,
   "id": "23ddad23",
   "metadata": {},
   "outputs": [
    {
     "name": "stdout",
     "output_type": "stream",
     "text": [
      "Analysis of Variance Table\n",
      "\n",
      "Response: Distances\n",
      "           Df Sum Sq Mean Sq F value    Pr(>F)    \n",
      "Groups      3 546.02 182.008  69.656 < 2.2e-16 ***\n",
      "Residuals 129 337.07   2.613                      \n",
      "---\n",
      "Signif. codes:  0 ‘***’ 0.001 ‘**’ 0.01 ‘*’ 0.05 ‘.’ 0.1 ‘ ’ 1\n"
     ]
    }
   ],
   "source": [
    "%%R\n",
    "library(vegan)\n",
    "\n",
    "# Compute Bray-Curtis distances (or Euclidean as in your example)\n",
    "dist_matrix <- vegdist(feature_matrix, method = \"euclidean\")\n",
    "\n",
    "# Run PERMDISP (using centroids)\n",
    "dispersion <- betadisper(dist_matrix, group_vector, type = \"centroid\")\n",
    "\n",
    "# Test for differences in dispersion\n",
    "permdisp_result <- anova(dispersion)\n",
    "print(permdisp_result)\n"
   ]
  },
  {
   "cell_type": "code",
   "execution_count": 15,
   "id": "97588e63",
   "metadata": {},
   "outputs": [
    {
     "name": "stdout",
     "output_type": "stream",
     "text": [
      "Analysis of Variance Table\n",
      "\n",
      "Response: Distances\n",
      "           Df Sum Sq"
     ]
    },
    {
     "name": "stdout",
     "output_type": "stream",
     "text": [
      " Mean Sq F value    Pr(>F)    \n",
      "Groups      3 546.02 182.008  69.656 < 2.2e-16 ***\n",
      "Residuals 129 337.07   2.613                      \n",
      "---\n",
      "Signif. codes:  0 ‘***’ 0.001 ‘**’ 0.01 ‘*’ 0.05 ‘.’ 0.1 ‘ ’ 1\n"
     ]
    }
   ],
   "source": [
    "import rpy2.robjects as robjects\n",
    "\n",
    "robjects.r('''\n",
    "    library(vegan)\n",
    "    dist_matrix <- vegdist(feature_matrix, method = \"euclidean\")\n",
    "    dispersion <- betadisper(dist_matrix, group_vector, type = \"centroid\")\n",
    "    result <- anova(dispersion)\n",
    "    print(result)\n",
    "''')\n"
   ]
  },
  {
   "cell_type": "code",
   "execution_count": null,
   "id": "03fa08b0",
   "metadata": {},
   "outputs": [],
   "source": []
  }
 ],
 "metadata": {
  "kernelspec": {
   "display_name": "school",
   "language": "python",
   "name": "python3"
  },
  "language_info": {
   "codemirror_mode": {
    "name": "ipython",
    "version": 3
   },
   "file_extension": ".py",
   "mimetype": "text/x-python",
   "name": "python",
   "nbconvert_exporter": "python",
   "pygments_lexer": "ipython3",
   "version": "3.12.7"
  }
 },
 "nbformat": 4,
 "nbformat_minor": 5
}
