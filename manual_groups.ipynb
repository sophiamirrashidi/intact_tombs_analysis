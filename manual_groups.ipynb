{
 "cells": [
  {
   "cell_type": "code",
   "execution_count": 1,
   "id": "157531c6",
   "metadata": {},
   "outputs": [
    {
     "name": "stdout",
     "output_type": "stream",
     "text": [
      "tomb           0\n",
      "rank           0\n",
      "grand_total    0\n",
      "amphorae       0\n",
      "bouquet        0\n",
      "bowls          0\n",
      "boxbas         0\n",
      "coffins        0\n",
      "fertility      0\n",
      "funerary       0\n",
      "furniture      0\n",
      "jars           0\n",
      "jewelry        0\n",
      "personal       0\n",
      "profess        0\n",
      "shabti         0\n",
      "toiletries     0\n",
      "vessels        0\n",
      "dtype: int64\n"
     ]
    }
   ],
   "source": [
    "import pandas as pd\n",
    "import seaborn as sns\n",
    "import os \n",
    "import sklearn as sk\n",
    "import matplotlib.pyplot as plt\n",
    "from sklearn.preprocessing import StandardScaler\n",
    "\n",
    "# load data\n",
    "df_dict = {}\n",
    "\n",
    "for file in os.listdir(\"./final_data\"):\n",
    "   if file.endswith(\".tsv\"):\n",
    "        filename = os.path.splitext(os.path.basename(file))[0]\n",
    "        temp_df = pd.read_csv(os.path.join('./final_data', file), delimiter='\\t')\n",
    "        df_dict[filename] = temp_df\n",
    "\n",
    "cost_df = df_dict['cost']\n",
    "\n",
    "# since coffins column is missing values, add the coffin column from coffins.tsv\n",
    "coffins_df = df_dict['coffins']\n",
    "merged_df = cost_df.merge(coffins_df, left_on=\"coffins\", right_on=\"total_cost\", how=\"left\")\n",
    "cost_df[\"coffins\"] = cost_df[\"coffins\"].fillna(merged_df[\"coffins\"])\n",
    "\n",
    "# some of the missing values have different keys - filling in manually\n",
    "# found this value in coffins_df\n",
    "cost_df.at[0, \"coffins\"] = 590.0\n",
    "# cannot find k&m in coffins_df, in paper, it says that Kha and Merit are similar to Yuya and Tuya, so filling their coffin value wih 590\n",
    "cost_df.at[2, \"coffins\"] = 590.0\n",
    "\n",
    "# filling in missing jewelry values\n",
    "jewel_df = df_dict['jewel']\n",
    "# putting 0 for iabtina because appendix in paper says there is no jewelry\n",
    "cost_df.at[25, \"jewlery\"] = 0\n",
    "# cannot find data for NuMan, putting 85 which is the average of the rank above and rank below cost on jewelry\n",
    "cost_df.at[75, \"jewlery\"] = 85\n",
    "cost_df = cost_df.rename(columns = {\"jewlery\" : \"jewelry\"})\n",
    "\n",
    "# filling in missing values for profess\n",
    "proff_df = df_dict['proff']\n",
    "# no professional equipment for Sat-Re, filling in 0\n",
    "cost_df.at[29, \"profess\"] = 0\n",
    "\n",
    "# filling in missing values for toiletries \n",
    "# no information about toiletries for Khay, filling in the average of the rank above and below\n",
    "cost_df.at[5, \"toiletries\"] = 13.5\n",
    "# drop some repeat tombs\n",
    "cost_df = cost_df[~cost_df['tomb'].isin(['Yuya','Kha', 'Merit', \"Tuya\", \"T&A\"])]\n",
    "\n",
    "print(cost_df.isnull().sum())\n",
    "cost_df = cost_df.drop([\"rank\"], axis=1)"
   ]
  },
  {
   "cell_type": "code",
   "execution_count": 2,
   "id": "4903ac0a",
   "metadata": {},
   "outputs": [],
   "source": [
    "def assign_manual_label(row):\n",
    "    tut = [\"Tutankhamen\"]\n",
    "    elite = [\"Y&T\", \"K&M\", \"Mahirper\"]\n",
    "    high_mid = [\"Nakht\", \"Khay\", \"Hatnofer\", \"Nerferkhewet\", \"Hatiay\", \"Setau\", \"Sennofer\", \"Petrie\"]\n",
    "    mid = [\"Tahuty\", \"Ahotep\", \"Harmose\", \"Mentuhotep\", \"Senmut\"]\n",
    "    \n",
    "\n",
    "    if row[\"tomb\"] in tut:\n",
    "        return \"Tutankhamen\"\n",
    "    elif row[\"tomb\"] in elite:\n",
    "        return \"Elite\"\n",
    "    elif row[\"tomb\"] in high_mid:\n",
    "        return \"High-Middle\"\n",
    "    elif row[\"tomb\"] in mid:\n",
    "        return \"Middle\"\n",
    "    else:\n",
    "        return \"Low\"\n",
    "\n",
    "# assign status from paper \n",
    "cost_df[\"status\"] = cost_df.apply(assign_manual_label, axis=1)"
   ]
  },
  {
   "cell_type": "code",
   "execution_count": 3,
   "id": "0207da75",
   "metadata": {},
   "outputs": [],
   "source": [
    "# create group dataframes\n",
    "elite_df = cost_df[cost_df[\"status\"] == \"Elite\"]\n",
    "high_mid_df = cost_df[cost_df[\"status\"] == \"High-Middle\"]\n",
    "mid_df = cost_df[cost_df[\"status\"] == \"Middle\"]\n",
    "low_df = cost_df[cost_df[\"status\"] == \"Low\"]\n",
    "\n",
    "df_list = [elite_df, high_mid_df, mid_df, low_df]\n"
   ]
  },
  {
   "cell_type": "code",
   "execution_count": 4,
   "id": "add4dd52",
   "metadata": {},
   "outputs": [
    {
     "name": "stdout",
     "output_type": "stream",
     "text": [
      "Elite Status\n"
     ]
    },
    {
     "data": {
      "text/plain": [
       "<Figure size 640x480 with 0 Axes>"
      ]
     },
     "metadata": {},
     "output_type": "display_data"
    },
    {
     "name": "stdout",
     "output_type": "stream",
     "text": [
      "High-Middle Status\n"
     ]
    },
    {
     "data": {
      "text/plain": [
       "<Figure size 640x480 with 0 Axes>"
      ]
     },
     "metadata": {},
     "output_type": "display_data"
    },
    {
     "name": "stdout",
     "output_type": "stream",
     "text": [
      "Middle Status\n"
     ]
    },
    {
     "data": {
      "text/plain": [
       "<Figure size 640x480 with 0 Axes>"
      ]
     },
     "metadata": {},
     "output_type": "display_data"
    },
    {
     "name": "stdout",
     "output_type": "stream",
     "text": [
      "Low Status\n"
     ]
    },
    {
     "data": {
      "text/plain": [
       "<Figure size 640x480 with 0 Axes>"
      ]
     },
     "metadata": {},
     "output_type": "display_data"
    }
   ],
   "source": [
    "# plot group grand_totals\n",
    "for df in df_list:\n",
    "    status = df[\"status\"].iloc[0]\n",
    "    print(f\"{status} Status\")\n",
    "    plt.clf()\n",
    "    # sns.barplot(df, x=\"tomb\", y=\"grand_total\", order = df.sort_values(\"grand_total\").tomb).set_title(f\"{status} Status\")\n",
    "    plt.show()\n"
   ]
  },
  {
   "cell_type": "code",
   "execution_count": 5,
   "id": "a8244fda",
   "metadata": {},
   "outputs": [
    {
     "name": "stdout",
     "output_type": "stream",
     "text": [
      "method name               PERMANOVA\n",
      "test statistic name        pseudo-F\n",
      "sample size                     133\n",
      "number of groups                  4\n",
      "test statistic            18.735675\n",
      "p-value                       0.001\n",
      "number of permutations          999\n",
      "Name: PERMANOVA results, dtype: object\n",
      "\n",
      "\n",
      "\n",
      "Group: Elite\n",
      "2 columns with zero variance\n",
      "\n",
      "Group: High-Middle\n",
      "1 columns with zero variance\n",
      "\n",
      "Group: Low\n",
      "0 columns with zero variance\n",
      "\n",
      "Group: Middle\n",
      "8 columns with zero variance\n",
      "\n",
      "Group: Tutankhamen\n",
      "0 columns with zero variance\n",
      "\n"
     ]
    },
    {
     "ename": "ZeroDivisionError",
     "evalue": "float division",
     "output_type": "error",
     "traceback": [
      "\u001b[0;31m---------------------------------------------------------------------------\u001b[0m",
      "\u001b[0;31mZeroDivisionError\u001b[0m                         Traceback (most recent call last)",
      "Cell \u001b[0;32mIn[5], line 30\u001b[0m\n\u001b[1;32m     27\u001b[0m     \u001b[38;5;28mprint\u001b[39m(zero_var_cols, \u001b[38;5;124m\"\u001b[39m\u001b[38;5;124mcolumns with zero variance\u001b[39m\u001b[38;5;130;01m\\n\u001b[39;00m\u001b[38;5;124m\"\u001b[39m)\n\u001b[1;32m     29\u001b[0m \u001b[38;5;66;03m# PERMDISP to evaluate the permanova, using mean as centroid calculation because some columns have 0 variance\u001b[39;00m\n\u001b[0;32m---> 30\u001b[0m pd \u001b[38;5;241m=\u001b[39m \u001b[43mpermdisp\u001b[49m\u001b[43m(\u001b[49m\u001b[43mdist_matrix\u001b[49m\u001b[43m,\u001b[49m\u001b[43m \u001b[49m\u001b[43mgrouping\u001b[49m\u001b[38;5;241;43m=\u001b[39;49m\u001b[43mid_df\u001b[49m\u001b[43m,\u001b[49m\u001b[43m \u001b[49m\u001b[43mcolumn\u001b[49m\u001b[38;5;241;43m=\u001b[39;49m\u001b[38;5;124;43m\"\u001b[39;49m\u001b[38;5;124;43mstatus\u001b[39;49m\u001b[38;5;124;43m\"\u001b[39;49m\u001b[43m)\u001b[49m\n\u001b[1;32m     32\u001b[0m \u001b[38;5;28mprint\u001b[39m(pd)\n",
      "File \u001b[0;32m/opt/miniconda3/envs/school/lib/python3.12/site-packages/skbio/stats/distance/_permdisp.py:286\u001b[0m, in \u001b[0;36mpermdisp\u001b[0;34m(distance_matrix, grouping, column, test, permutations, method, number_of_dimensions, seed, warn_neg_eigval)\u001b[0m\n\u001b[1;32m    282\u001b[0m num_groups, grouping \u001b[38;5;241m=\u001b[39m _preprocess_input_sng(ids, sample_size, grouping, column)\n\u001b[1;32m    284\u001b[0m test_stat_function \u001b[38;5;241m=\u001b[39m partial(_compute_groups, samples, test)\n\u001b[0;32m--> 286\u001b[0m stat, p_value \u001b[38;5;241m=\u001b[39m \u001b[43m_run_monte_carlo_stats\u001b[49m\u001b[43m(\u001b[49m\n\u001b[1;32m    287\u001b[0m \u001b[43m    \u001b[49m\u001b[43mtest_stat_function\u001b[49m\u001b[43m,\u001b[49m\u001b[43m \u001b[49m\u001b[43mgrouping\u001b[49m\u001b[43m,\u001b[49m\u001b[43m \u001b[49m\u001b[43mpermutations\u001b[49m\u001b[43m,\u001b[49m\u001b[43m \u001b[49m\u001b[43mseed\u001b[49m\n\u001b[1;32m    288\u001b[0m \u001b[43m\u001b[49m\u001b[43m)\u001b[49m\n\u001b[1;32m    290\u001b[0m \u001b[38;5;28;01mreturn\u001b[39;00m _build_results(\n\u001b[1;32m    291\u001b[0m     \u001b[38;5;124m\"\u001b[39m\u001b[38;5;124mPERMDISP\u001b[39m\u001b[38;5;124m\"\u001b[39m, \u001b[38;5;124m\"\u001b[39m\u001b[38;5;124mF-value\u001b[39m\u001b[38;5;124m\"\u001b[39m, sample_size, num_groups, stat, p_value, permutations\n\u001b[1;32m    292\u001b[0m )\n",
      "File \u001b[0;32m/opt/miniconda3/envs/school/lib/python3.12/site-packages/skbio/stats/distance/_base.py:1422\u001b[0m, in \u001b[0;36m_run_monte_carlo_stats\u001b[0;34m(test_stat_function, grouping, permutations, seed)\u001b[0m\n\u001b[1;32m   1420\u001b[0m     \u001b[38;5;28;01mfor\u001b[39;00m i \u001b[38;5;129;01min\u001b[39;00m \u001b[38;5;28mrange\u001b[39m(permutations):\n\u001b[1;32m   1421\u001b[0m         perm_grouping \u001b[38;5;241m=\u001b[39m rng\u001b[38;5;241m.\u001b[39mpermutation(grouping)\n\u001b[0;32m-> 1422\u001b[0m         perm_stats[i] \u001b[38;5;241m=\u001b[39m \u001b[43mtest_stat_function\u001b[49m\u001b[43m(\u001b[49m\u001b[43mperm_grouping\u001b[49m\u001b[43m)\u001b[49m\n\u001b[1;32m   1424\u001b[0m     p_value \u001b[38;5;241m=\u001b[39m ((perm_stats \u001b[38;5;241m>\u001b[39m\u001b[38;5;241m=\u001b[39m stat)\u001b[38;5;241m.\u001b[39msum() \u001b[38;5;241m+\u001b[39m \u001b[38;5;241m1\u001b[39m) \u001b[38;5;241m/\u001b[39m (permutations \u001b[38;5;241m+\u001b[39m \u001b[38;5;241m1\u001b[39m)\n\u001b[1;32m   1426\u001b[0m \u001b[38;5;28;01mreturn\u001b[39;00m stat, p_value\n",
      "File \u001b[0;32m/opt/miniconda3/envs/school/lib/python3.12/site-packages/skbio/stats/distance/_permdisp.py:303\u001b[0m, in \u001b[0;36m_compute_groups\u001b[0;34m(samples, test_type, grouping)\u001b[0m\n\u001b[1;32m    301\u001b[0m \u001b[38;5;28;01melif\u001b[39;00m test_type \u001b[38;5;241m==\u001b[39m \u001b[38;5;124m\"\u001b[39m\u001b[38;5;124mmedian\u001b[39m\u001b[38;5;124m\"\u001b[39m:\n\u001b[1;32m    302\u001b[0m     grouping_cols \u001b[38;5;241m=\u001b[39m samples\u001b[38;5;241m.\u001b[39mcolumns\u001b[38;5;241m.\u001b[39mto_list()\n\u001b[0;32m--> 303\u001b[0m     centroids \u001b[38;5;241m=\u001b[39m \u001b[43msamples\u001b[49m\u001b[38;5;241;43m.\u001b[39;49m\u001b[43mgroupby\u001b[49m\u001b[43m(\u001b[49m\u001b[38;5;124;43m\"\u001b[39;49m\u001b[38;5;124;43mgrouping\u001b[39;49m\u001b[38;5;124;43m\"\u001b[39;49m\u001b[43m)\u001b[49m\u001b[43m[\u001b[49m\u001b[43mgrouping_cols\u001b[49m\u001b[43m]\u001b[49m\u001b[38;5;241;43m.\u001b[39;49m\u001b[43mapply\u001b[49m\u001b[43m(\u001b[49m\u001b[43m_config_med\u001b[49m\u001b[43m)\u001b[49m\n\u001b[1;32m    305\u001b[0m \u001b[38;5;28;01mfor\u001b[39;00m label, df \u001b[38;5;129;01min\u001b[39;00m samples\u001b[38;5;241m.\u001b[39mgroupby(\u001b[38;5;124m\"\u001b[39m\u001b[38;5;124mgrouping\u001b[39m\u001b[38;5;124m\"\u001b[39m):\n\u001b[1;32m    306\u001b[0m     groups\u001b[38;5;241m.\u001b[39mappend(\n\u001b[1;32m    307\u001b[0m         cdist(\n\u001b[1;32m    308\u001b[0m             df\u001b[38;5;241m.\u001b[39mvalues[:, :\u001b[38;5;241m-\u001b[39m\u001b[38;5;241m1\u001b[39m]\u001b[38;5;241m.\u001b[39mastype(\u001b[38;5;124m\"\u001b[39m\u001b[38;5;124mfloat64\u001b[39m\u001b[38;5;124m\"\u001b[39m),\n\u001b[0;32m   (...)\u001b[0m\n\u001b[1;32m    311\u001b[0m         )\n\u001b[1;32m    312\u001b[0m     )\n",
      "File \u001b[0;32m/opt/miniconda3/envs/school/lib/python3.12/site-packages/pandas/core/groupby/groupby.py:1824\u001b[0m, in \u001b[0;36mGroupBy.apply\u001b[0;34m(self, func, include_groups, *args, **kwargs)\u001b[0m\n\u001b[1;32m   1822\u001b[0m \u001b[38;5;28;01mwith\u001b[39;00m option_context(\u001b[38;5;124m\"\u001b[39m\u001b[38;5;124mmode.chained_assignment\u001b[39m\u001b[38;5;124m\"\u001b[39m, \u001b[38;5;28;01mNone\u001b[39;00m):\n\u001b[1;32m   1823\u001b[0m     \u001b[38;5;28;01mtry\u001b[39;00m:\n\u001b[0;32m-> 1824\u001b[0m         result \u001b[38;5;241m=\u001b[39m \u001b[38;5;28;43mself\u001b[39;49m\u001b[38;5;241;43m.\u001b[39;49m\u001b[43m_python_apply_general\u001b[49m\u001b[43m(\u001b[49m\u001b[43mf\u001b[49m\u001b[43m,\u001b[49m\u001b[43m \u001b[49m\u001b[38;5;28;43mself\u001b[39;49m\u001b[38;5;241;43m.\u001b[39;49m\u001b[43m_selected_obj\u001b[49m\u001b[43m)\u001b[49m\n\u001b[1;32m   1825\u001b[0m         \u001b[38;5;28;01mif\u001b[39;00m (\n\u001b[1;32m   1826\u001b[0m             \u001b[38;5;129;01mnot\u001b[39;00m \u001b[38;5;28misinstance\u001b[39m(\u001b[38;5;28mself\u001b[39m\u001b[38;5;241m.\u001b[39mobj, Series)\n\u001b[1;32m   1827\u001b[0m             \u001b[38;5;129;01mand\u001b[39;00m \u001b[38;5;28mself\u001b[39m\u001b[38;5;241m.\u001b[39m_selection \u001b[38;5;129;01mis\u001b[39;00m \u001b[38;5;28;01mNone\u001b[39;00m\n\u001b[1;32m   1828\u001b[0m             \u001b[38;5;129;01mand\u001b[39;00m \u001b[38;5;28mself\u001b[39m\u001b[38;5;241m.\u001b[39m_selected_obj\u001b[38;5;241m.\u001b[39mshape \u001b[38;5;241m!=\u001b[39m \u001b[38;5;28mself\u001b[39m\u001b[38;5;241m.\u001b[39m_obj_with_exclusions\u001b[38;5;241m.\u001b[39mshape\n\u001b[1;32m   1829\u001b[0m         ):\n\u001b[1;32m   1830\u001b[0m             warnings\u001b[38;5;241m.\u001b[39mwarn(\n\u001b[1;32m   1831\u001b[0m                 message\u001b[38;5;241m=\u001b[39m_apply_groupings_depr\u001b[38;5;241m.\u001b[39mformat(\n\u001b[1;32m   1832\u001b[0m                     \u001b[38;5;28mtype\u001b[39m(\u001b[38;5;28mself\u001b[39m)\u001b[38;5;241m.\u001b[39m\u001b[38;5;18m__name__\u001b[39m, \u001b[38;5;124m\"\u001b[39m\u001b[38;5;124mapply\u001b[39m\u001b[38;5;124m\"\u001b[39m\n\u001b[0;32m   (...)\u001b[0m\n\u001b[1;32m   1835\u001b[0m                 stacklevel\u001b[38;5;241m=\u001b[39mfind_stack_level(),\n\u001b[1;32m   1836\u001b[0m             )\n",
      "File \u001b[0;32m/opt/miniconda3/envs/school/lib/python3.12/site-packages/pandas/core/groupby/groupby.py:1885\u001b[0m, in \u001b[0;36mGroupBy._python_apply_general\u001b[0;34m(self, f, data, not_indexed_same, is_transform, is_agg)\u001b[0m\n\u001b[1;32m   1850\u001b[0m \u001b[38;5;129m@final\u001b[39m\n\u001b[1;32m   1851\u001b[0m \u001b[38;5;28;01mdef\u001b[39;00m\u001b[38;5;250m \u001b[39m\u001b[38;5;21m_python_apply_general\u001b[39m(\n\u001b[1;32m   1852\u001b[0m     \u001b[38;5;28mself\u001b[39m,\n\u001b[0;32m   (...)\u001b[0m\n\u001b[1;32m   1857\u001b[0m     is_agg: \u001b[38;5;28mbool\u001b[39m \u001b[38;5;241m=\u001b[39m \u001b[38;5;28;01mFalse\u001b[39;00m,\n\u001b[1;32m   1858\u001b[0m ) \u001b[38;5;241m-\u001b[39m\u001b[38;5;241m>\u001b[39m NDFrameT:\n\u001b[1;32m   1859\u001b[0m \u001b[38;5;250m    \u001b[39m\u001b[38;5;124;03m\"\"\"\u001b[39;00m\n\u001b[1;32m   1860\u001b[0m \u001b[38;5;124;03m    Apply function f in python space\u001b[39;00m\n\u001b[1;32m   1861\u001b[0m \n\u001b[0;32m   (...)\u001b[0m\n\u001b[1;32m   1883\u001b[0m \u001b[38;5;124;03m        data after applying f\u001b[39;00m\n\u001b[1;32m   1884\u001b[0m \u001b[38;5;124;03m    \"\"\"\u001b[39;00m\n\u001b[0;32m-> 1885\u001b[0m     values, mutated \u001b[38;5;241m=\u001b[39m \u001b[38;5;28;43mself\u001b[39;49m\u001b[38;5;241;43m.\u001b[39;49m\u001b[43m_grouper\u001b[49m\u001b[38;5;241;43m.\u001b[39;49m\u001b[43mapply_groupwise\u001b[49m\u001b[43m(\u001b[49m\u001b[43mf\u001b[49m\u001b[43m,\u001b[49m\u001b[43m \u001b[49m\u001b[43mdata\u001b[49m\u001b[43m,\u001b[49m\u001b[43m \u001b[49m\u001b[38;5;28;43mself\u001b[39;49m\u001b[38;5;241;43m.\u001b[39;49m\u001b[43maxis\u001b[49m\u001b[43m)\u001b[49m\n\u001b[1;32m   1886\u001b[0m     \u001b[38;5;28;01mif\u001b[39;00m not_indexed_same \u001b[38;5;129;01mis\u001b[39;00m \u001b[38;5;28;01mNone\u001b[39;00m:\n\u001b[1;32m   1887\u001b[0m         not_indexed_same \u001b[38;5;241m=\u001b[39m mutated\n",
      "File \u001b[0;32m/opt/miniconda3/envs/school/lib/python3.12/site-packages/pandas/core/groupby/ops.py:919\u001b[0m, in \u001b[0;36mBaseGrouper.apply_groupwise\u001b[0;34m(self, f, data, axis)\u001b[0m\n\u001b[1;32m    917\u001b[0m \u001b[38;5;66;03m# group might be modified\u001b[39;00m\n\u001b[1;32m    918\u001b[0m group_axes \u001b[38;5;241m=\u001b[39m group\u001b[38;5;241m.\u001b[39maxes\n\u001b[0;32m--> 919\u001b[0m res \u001b[38;5;241m=\u001b[39m \u001b[43mf\u001b[49m\u001b[43m(\u001b[49m\u001b[43mgroup\u001b[49m\u001b[43m)\u001b[49m\n\u001b[1;32m    920\u001b[0m \u001b[38;5;28;01mif\u001b[39;00m \u001b[38;5;129;01mnot\u001b[39;00m mutated \u001b[38;5;129;01mand\u001b[39;00m \u001b[38;5;129;01mnot\u001b[39;00m _is_indexed_like(res, group_axes, axis):\n\u001b[1;32m    921\u001b[0m     mutated \u001b[38;5;241m=\u001b[39m \u001b[38;5;28;01mTrue\u001b[39;00m\n",
      "File \u001b[0;32m/opt/miniconda3/envs/school/lib/python3.12/site-packages/skbio/stats/distance/_permdisp.py:327\u001b[0m, in \u001b[0;36m_config_med\u001b[0;34m(x)\u001b[0m\n\u001b[1;32m    321\u001b[0m \u001b[38;5;250m\u001b[39m\u001b[38;5;124;03m\"\"\"Slice and transpose the vector.\u001b[39;00m\n\u001b[1;32m    322\u001b[0m \n\u001b[1;32m    323\u001b[0m \u001b[38;5;124;03mSlice the vector up to the last value to exclude grouping column\u001b[39;00m\n\u001b[1;32m    324\u001b[0m \u001b[38;5;124;03mand transpose the vector to be compatible with hd.geomedian.\u001b[39;00m\n\u001b[1;32m    325\u001b[0m \u001b[38;5;124;03m\"\"\"\u001b[39;00m\n\u001b[1;32m    326\u001b[0m X \u001b[38;5;241m=\u001b[39m x\u001b[38;5;241m.\u001b[39mvalues[:, :\u001b[38;5;241m-\u001b[39m\u001b[38;5;241m1\u001b[39m]\n\u001b[0;32m--> 327\u001b[0m \u001b[38;5;28;01mreturn\u001b[39;00m pd\u001b[38;5;241m.\u001b[39mSeries(np\u001b[38;5;241m.\u001b[39marray(\u001b[43mgeomedian_axis_one\u001b[49m\u001b[43m(\u001b[49m\u001b[43mX\u001b[49m\u001b[38;5;241;43m.\u001b[39;49m\u001b[43mT\u001b[49m\u001b[43m)\u001b[49m), index\u001b[38;5;241m=\u001b[39mx\u001b[38;5;241m.\u001b[39mcolumns[:\u001b[38;5;241m-\u001b[39m\u001b[38;5;241m1\u001b[39m])\n",
      "File \u001b[0;32mskbio/stats/distance/_cutils.pyx:360\u001b[0m, in \u001b[0;36mskbio.stats.distance._cutils.geomedian_axis_one\u001b[0;34m()\u001b[0m\n",
      "\u001b[0;31mZeroDivisionError\u001b[0m: float division"
     ]
    }
   ],
   "source": [
    "# PERMANOVA\n",
    "from scipy.spatial.distance import pdist, squareform\n",
    "from skbio.stats.distance import DistanceMatrix, permanova, permdisp\n",
    "\n",
    "# scale features\n",
    "no_tut = cost_df[cost_df['tomb'] != \"Tutankhamen\"]\n",
    "feature_matrix = no_tut.drop(['tomb', 'status'], axis=1)\n",
    "feature_matrix = StandardScaler().fit_transform(feature_matrix)\n",
    "\n",
    "# calculate distance matrix\n",
    "distances = pdist(feature_matrix, metric='euclidean')\n",
    "dist_matrix = DistanceMatrix(squareform(distances), ids=no_tut[\"tomb\"])\n",
    "\n",
    "# permanova calculation\n",
    "id_df = no_tut.set_index(\"tomb\").loc[dist_matrix.ids, [\"status\"]]\n",
    "pn = permanova(dist_matrix, grouping=id_df, column=\"status\")\n",
    "print(pn)\n",
    "print('\\n\\n')\n",
    "\n",
    "# check variance of columns \n",
    "grouped = cost_df.groupby(\"status\")\n",
    "\n",
    "for name, group in grouped:\n",
    "    numeric_data = group.select_dtypes(include=\"number\")  # filters only numeric columns\n",
    "    zero_var_cols = (numeric_data.var() == 0).sum()\n",
    "    print(f\"Group: {name}\")\n",
    "    print(zero_var_cols, \"columns with zero variance\\n\")\n",
    "\n",
    "# PERMDISP to evaluate the permanova, using mean as centroid calculation because some columns have 0 variance\n",
    "pd = permdisp(dist_matrix, grouping=id_df, column=\"status\")\n",
    "\n",
    "print(pd)"
   ]
  },
  {
   "cell_type": "code",
   "execution_count": 7,
   "id": "0ac219d4",
   "metadata": {},
   "outputs": [
    {
     "name": "stdout",
     "output_type": "stream",
     "text": [
      "The rpy2.ipython extension is already loaded. To reload it, use:\n",
      "  %reload_ext rpy2.ipython\n"
     ]
    }
   ],
   "source": [
    "%load_ext rpy2.ipython\n",
    "\n",
    "import pandas as pd\n",
    "from rpy2.robjects import pandas2ri\n",
    "pandas2ri.activate()\n",
    "\n",
    "# Extract status column into a separate Series\n",
    "group_vector = id_df[\"status\"]\n",
    "\n",
    "# Then send both to R\n",
    "%R -i feature_matrix -i group_vector"
   ]
  },
  {
   "cell_type": "code",
   "execution_count": 8,
   "id": "23ddad23",
   "metadata": {},
   "outputs": [
    {
     "name": "stderr",
     "output_type": "stream",
     "text": [
      "UsageError: Line magic function `%%R` not found.\n"
     ]
    }
   ],
   "source": [
    "# Now in R: run betadisper and test\n",
    "%%R\n",
    "library(vegan)\n",
    "\n",
    "# Compute Bray-Curtis distances\n",
    "dist_matrix <- vegdist(your_dataframe, method = \"euclidean\")\n",
    "\n",
    "# Run PERMDISP (using centroids)\n",
    "dispersion <- betadisper(dist_matrix, group_vector, type = \"centroid\")\n",
    "\n",
    "# Test for differences in dispersion\n",
    "permdisp_result <- anova(dispersion)\n",
    "print(permdisp_result)\n"
   ]
  },
  {
   "cell_type": "code",
   "execution_count": 16,
   "id": "97588e63",
   "metadata": {},
   "outputs": [
    {
     "name": "stdout",
     "output_type": "stream",
     "text": [
      "Analysis of Variance Table\n",
      "\n",
      "Response: Distances\n",
      "           Df Sum Sq Mean Sq F value    Pr(>F)    \n",
      "Groups      3 390.09 130.031  36.495 < 2.2e-16 ***\n",
      "Residuals 129 459.62   3.563                      \n",
      "---\n",
      "Signif. codes:  0 ‘***’ 0.001 ‘**’ 0.01 ‘*’ 0.05 ‘.’ 0.1 ‘ ’ 1\n"
     ]
    }
   ],
   "source": [
    "import rpy2.robjects as robjects\n",
    "\n",
    "robjects.r('''\n",
    "    library(vegan)\n",
    "    dist_matrix <- vegdist(feature_matrix, method = \"euclidean\")\n",
    "    dispersion <- betadisper(dist_matrix, group_vector, type = \"centroid\")\n",
    "    result <- anova(dispersion)\n",
    "    print(result)\n",
    "''')\n"
   ]
  },
  {
   "cell_type": "code",
   "execution_count": null,
   "id": "fa47e201",
   "metadata": {},
   "outputs": [],
   "source": []
  }
 ],
 "metadata": {
  "kernelspec": {
   "display_name": "school",
   "language": "python",
   "name": "python3"
  },
  "language_info": {
   "codemirror_mode": {
    "name": "ipython",
    "version": 3
   },
   "file_extension": ".py",
   "mimetype": "text/x-python",
   "name": "python",
   "nbconvert_exporter": "python",
   "pygments_lexer": "ipython3",
   "version": "3.12.7"
  }
 },
 "nbformat": 4,
 "nbformat_minor": 5
}
